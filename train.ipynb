{
 "cells": [
  {
   "cell_type": "code",
   "execution_count": 23,
   "metadata": {},
   "outputs": [],
   "source": [
    "import numpy as np\n",
    "import pandas as pd\n",
    "\n",
    "import matplotlib.pyplot as plt\n",
    "import seaborn as sns\n",
    "\n",
    "from pathlib import Path\n",
    "from sklearn.model_selection import train_test_split\n",
    "\n",
    "import tensorflow as tf\n",
    "\n",
    "from sklearn.metrics import confusion_matrix, classification_report"
   ]
  },
  {
   "cell_type": "code",
   "execution_count": 24,
   "metadata": {},
   "outputs": [],
   "source": [
    "positive_dir = Path('/eduTech-Hackathon/archive/train/Positive')\n",
    "negative_dir = Path('/eduTech-Hackathon/archive/train/Negative')"
   ]
  },
  {
   "cell_type": "code",
   "execution_count": 25,
   "metadata": {},
   "outputs": [],
   "source": [
    "positive_dir_val = Path('/eduTech-Hackathon/archive/valid/Positive')\n",
    "negative_dir_val = Path('/eduTech-Hackathon/archive/valid/Negative')\n",
    "positive_dir_test = Path('/eduTech-Hackathon/archive/test/Positive')\n",
    "negative_dir_test= Path('/eduTech-Hackathon/archive/test/Negative')\n"
   ]
  },
  {
   "cell_type": "code",
   "execution_count": 26,
   "metadata": {},
   "outputs": [
    {
     "data": {
      "text/html": [
       "<div>\n",
       "<style scoped>\n",
       "    .dataframe tbody tr th:only-of-type {\n",
       "        vertical-align: middle;\n",
       "    }\n",
       "\n",
       "    .dataframe tbody tr th {\n",
       "        vertical-align: top;\n",
       "    }\n",
       "\n",
       "    .dataframe thead th {\n",
       "        text-align: right;\n",
       "    }\n",
       "</style>\n",
       "<table border=\"1\" class=\"dataframe\">\n",
       "  <thead>\n",
       "    <tr style=\"text-align: right;\">\n",
       "      <th></th>\n",
       "      <th>Filepath</th>\n",
       "    </tr>\n",
       "  </thead>\n",
       "  <tbody>\n",
       "    <tr>\n",
       "      <th>0</th>\n",
       "      <td>\\eduTech-Hackathon\\archive\\predict\\IMG_1129.JPG</td>\n",
       "    </tr>\n",
       "    <tr>\n",
       "      <th>1</th>\n",
       "      <td>\\eduTech-Hackathon\\archive\\predict\\IMG_1130.JPG</td>\n",
       "    </tr>\n",
       "    <tr>\n",
       "      <th>2</th>\n",
       "      <td>\\eduTech-Hackathon\\archive\\predict\\IMG_1131.JPG</td>\n",
       "    </tr>\n",
       "    <tr>\n",
       "      <th>3</th>\n",
       "      <td>\\eduTech-Hackathon\\archive\\predict\\IMG_1132.JPG</td>\n",
       "    </tr>\n",
       "    <tr>\n",
       "      <th>4</th>\n",
       "      <td>\\eduTech-Hackathon\\archive\\predict\\IMG_1133.JPG</td>\n",
       "    </tr>\n",
       "    <tr>\n",
       "      <th>5</th>\n",
       "      <td>\\eduTech-Hackathon\\archive\\predict\\IMG_1134.JPG</td>\n",
       "    </tr>\n",
       "  </tbody>\n",
       "</table>\n",
       "</div>"
      ],
      "text/plain": [
       "                                          Filepath\n",
       "0  \\eduTech-Hackathon\\archive\\predict\\IMG_1129.JPG\n",
       "1  \\eduTech-Hackathon\\archive\\predict\\IMG_1130.JPG\n",
       "2  \\eduTech-Hackathon\\archive\\predict\\IMG_1131.JPG\n",
       "3  \\eduTech-Hackathon\\archive\\predict\\IMG_1132.JPG\n",
       "4  \\eduTech-Hackathon\\archive\\predict\\IMG_1133.JPG\n",
       "5  \\eduTech-Hackathon\\archive\\predict\\IMG_1134.JPG"
      ]
     },
     "execution_count": 26,
     "metadata": {},
     "output_type": "execute_result"
    }
   ],
   "source": [
    "dir_pred = Path('/eduTech-Hackathon/archive/predict')\n",
    "filepaths = pd.Series(list(dir_pred.glob(r'*.jpg')), name='Filepath').astype(str)\n",
    "df_predict=pd.DataFrame(filepaths)\n",
    "df_predict"
   ]
  },
  {
   "cell_type": "code",
   "execution_count": 27,
   "metadata": {},
   "outputs": [],
   "source": [
    "def generate_df(image_dir, label):\n",
    "    filepaths = pd.Series(list(image_dir.glob(r'*.jpg')), name='Filepath').astype(str)\n",
    "    labels = pd.Series(label, name='Label', index=filepaths.index)\n",
    "    df = pd.concat([filepaths, labels], axis=1)\n",
    "    return df"
   ]
  },
  {
   "cell_type": "code",
   "execution_count": 28,
   "metadata": {},
   "outputs": [
    {
     "data": {
      "text/html": [
       "<div>\n",
       "<style scoped>\n",
       "    .dataframe tbody tr th:only-of-type {\n",
       "        vertical-align: middle;\n",
       "    }\n",
       "\n",
       "    .dataframe tbody tr th {\n",
       "        vertical-align: top;\n",
       "    }\n",
       "\n",
       "    .dataframe thead th {\n",
       "        text-align: right;\n",
       "    }\n",
       "</style>\n",
       "<table border=\"1\" class=\"dataframe\">\n",
       "  <thead>\n",
       "    <tr style=\"text-align: right;\">\n",
       "      <th></th>\n",
       "      <th>Filepath</th>\n",
       "      <th>Label</th>\n",
       "    </tr>\n",
       "  </thead>\n",
       "  <tbody>\n",
       "    <tr>\n",
       "      <th>0</th>\n",
       "      <td>\\eduTech-Hackathon\\archive\\train\\Positive\\IMG_...</td>\n",
       "      <td>POSITIVE</td>\n",
       "    </tr>\n",
       "    <tr>\n",
       "      <th>1</th>\n",
       "      <td>\\eduTech-Hackathon\\archive\\train\\Negative\\IMG_...</td>\n",
       "      <td>NEGATIVE</td>\n",
       "    </tr>\n",
       "    <tr>\n",
       "      <th>2</th>\n",
       "      <td>\\eduTech-Hackathon\\archive\\train\\Negative\\IMG_...</td>\n",
       "      <td>NEGATIVE</td>\n",
       "    </tr>\n",
       "    <tr>\n",
       "      <th>3</th>\n",
       "      <td>\\eduTech-Hackathon\\archive\\train\\Negative\\IMG_...</td>\n",
       "      <td>NEGATIVE</td>\n",
       "    </tr>\n",
       "    <tr>\n",
       "      <th>4</th>\n",
       "      <td>\\eduTech-Hackathon\\archive\\train\\Positive\\IMG_...</td>\n",
       "      <td>POSITIVE</td>\n",
       "    </tr>\n",
       "    <tr>\n",
       "      <th>...</th>\n",
       "      <td>...</td>\n",
       "      <td>...</td>\n",
       "    </tr>\n",
       "    <tr>\n",
       "      <th>595</th>\n",
       "      <td>\\eduTech-Hackathon\\archive\\train\\Negative\\IMG_...</td>\n",
       "      <td>NEGATIVE</td>\n",
       "    </tr>\n",
       "    <tr>\n",
       "      <th>596</th>\n",
       "      <td>\\eduTech-Hackathon\\archive\\train\\Positive\\IMG_...</td>\n",
       "      <td>POSITIVE</td>\n",
       "    </tr>\n",
       "    <tr>\n",
       "      <th>597</th>\n",
       "      <td>\\eduTech-Hackathon\\archive\\train\\Negative\\IMG_...</td>\n",
       "      <td>NEGATIVE</td>\n",
       "    </tr>\n",
       "    <tr>\n",
       "      <th>598</th>\n",
       "      <td>\\eduTech-Hackathon\\archive\\train\\Negative\\IMG_...</td>\n",
       "      <td>NEGATIVE</td>\n",
       "    </tr>\n",
       "    <tr>\n",
       "      <th>599</th>\n",
       "      <td>\\eduTech-Hackathon\\archive\\train\\Negative\\IMG_...</td>\n",
       "      <td>NEGATIVE</td>\n",
       "    </tr>\n",
       "  </tbody>\n",
       "</table>\n",
       "<p>600 rows × 2 columns</p>\n",
       "</div>"
      ],
      "text/plain": [
       "                                              Filepath     Label\n",
       "0    \\eduTech-Hackathon\\archive\\train\\Positive\\IMG_...  POSITIVE\n",
       "1    \\eduTech-Hackathon\\archive\\train\\Negative\\IMG_...  NEGATIVE\n",
       "2    \\eduTech-Hackathon\\archive\\train\\Negative\\IMG_...  NEGATIVE\n",
       "3    \\eduTech-Hackathon\\archive\\train\\Negative\\IMG_...  NEGATIVE\n",
       "4    \\eduTech-Hackathon\\archive\\train\\Positive\\IMG_...  POSITIVE\n",
       "..                                                 ...       ...\n",
       "595  \\eduTech-Hackathon\\archive\\train\\Negative\\IMG_...  NEGATIVE\n",
       "596  \\eduTech-Hackathon\\archive\\train\\Positive\\IMG_...  POSITIVE\n",
       "597  \\eduTech-Hackathon\\archive\\train\\Negative\\IMG_...  NEGATIVE\n",
       "598  \\eduTech-Hackathon\\archive\\train\\Negative\\IMG_...  NEGATIVE\n",
       "599  \\eduTech-Hackathon\\archive\\train\\Negative\\IMG_...  NEGATIVE\n",
       "\n",
       "[600 rows x 2 columns]"
      ]
     },
     "execution_count": 28,
     "metadata": {},
     "output_type": "execute_result"
    }
   ],
   "source": [
    "positive_df = generate_df(positive_dir, label=\"POSITIVE\")\n",
    "negative_df = generate_df(negative_dir, label=\"NEGATIVE\")\n",
    "\n",
    "train_df = pd.concat([positive_df, negative_df], axis=0).sample(frac=1.0, random_state=101).reset_index(drop=True)\n",
    "train_df"
   ]
  },
  {
   "cell_type": "code",
   "execution_count": 29,
   "metadata": {},
   "outputs": [
    {
     "data": {
      "text/html": [
       "<div>\n",
       "<style scoped>\n",
       "    .dataframe tbody tr th:only-of-type {\n",
       "        vertical-align: middle;\n",
       "    }\n",
       "\n",
       "    .dataframe tbody tr th {\n",
       "        vertical-align: top;\n",
       "    }\n",
       "\n",
       "    .dataframe thead th {\n",
       "        text-align: right;\n",
       "    }\n",
       "</style>\n",
       "<table border=\"1\" class=\"dataframe\">\n",
       "  <thead>\n",
       "    <tr style=\"text-align: right;\">\n",
       "      <th></th>\n",
       "      <th>Filepath</th>\n",
       "      <th>Label</th>\n",
       "    </tr>\n",
       "  </thead>\n",
       "  <tbody>\n",
       "    <tr>\n",
       "      <th>0</th>\n",
       "      <td>\\eduTech-Hackathon\\archive\\valid\\Positive\\IMG_...</td>\n",
       "      <td>POSITIVE</td>\n",
       "    </tr>\n",
       "    <tr>\n",
       "      <th>1</th>\n",
       "      <td>\\eduTech-Hackathon\\archive\\valid\\Negative\\IMG_...</td>\n",
       "      <td>NEGATIVE</td>\n",
       "    </tr>\n",
       "    <tr>\n",
       "      <th>2</th>\n",
       "      <td>\\eduTech-Hackathon\\archive\\valid\\Positive\\IMG_...</td>\n",
       "      <td>POSITIVE</td>\n",
       "    </tr>\n",
       "    <tr>\n",
       "      <th>3</th>\n",
       "      <td>\\eduTech-Hackathon\\archive\\valid\\Positive\\IMG_...</td>\n",
       "      <td>POSITIVE</td>\n",
       "    </tr>\n",
       "    <tr>\n",
       "      <th>4</th>\n",
       "      <td>\\eduTech-Hackathon\\archive\\valid\\Positive\\IMG_...</td>\n",
       "      <td>POSITIVE</td>\n",
       "    </tr>\n",
       "    <tr>\n",
       "      <th>...</th>\n",
       "      <td>...</td>\n",
       "      <td>...</td>\n",
       "    </tr>\n",
       "    <tr>\n",
       "      <th>195</th>\n",
       "      <td>\\eduTech-Hackathon\\archive\\valid\\Positive\\IMG_...</td>\n",
       "      <td>POSITIVE</td>\n",
       "    </tr>\n",
       "    <tr>\n",
       "      <th>196</th>\n",
       "      <td>\\eduTech-Hackathon\\archive\\valid\\Positive\\IMG_...</td>\n",
       "      <td>POSITIVE</td>\n",
       "    </tr>\n",
       "    <tr>\n",
       "      <th>197</th>\n",
       "      <td>\\eduTech-Hackathon\\archive\\valid\\Positive\\IMG_...</td>\n",
       "      <td>POSITIVE</td>\n",
       "    </tr>\n",
       "    <tr>\n",
       "      <th>198</th>\n",
       "      <td>\\eduTech-Hackathon\\archive\\valid\\Positive\\IMG_...</td>\n",
       "      <td>POSITIVE</td>\n",
       "    </tr>\n",
       "    <tr>\n",
       "      <th>199</th>\n",
       "      <td>\\eduTech-Hackathon\\archive\\valid\\Positive\\IMG_...</td>\n",
       "      <td>POSITIVE</td>\n",
       "    </tr>\n",
       "  </tbody>\n",
       "</table>\n",
       "<p>200 rows × 2 columns</p>\n",
       "</div>"
      ],
      "text/plain": [
       "                                              Filepath     Label\n",
       "0    \\eduTech-Hackathon\\archive\\valid\\Positive\\IMG_...  POSITIVE\n",
       "1    \\eduTech-Hackathon\\archive\\valid\\Negative\\IMG_...  NEGATIVE\n",
       "2    \\eduTech-Hackathon\\archive\\valid\\Positive\\IMG_...  POSITIVE\n",
       "3    \\eduTech-Hackathon\\archive\\valid\\Positive\\IMG_...  POSITIVE\n",
       "4    \\eduTech-Hackathon\\archive\\valid\\Positive\\IMG_...  POSITIVE\n",
       "..                                                 ...       ...\n",
       "195  \\eduTech-Hackathon\\archive\\valid\\Positive\\IMG_...  POSITIVE\n",
       "196  \\eduTech-Hackathon\\archive\\valid\\Positive\\IMG_...  POSITIVE\n",
       "197  \\eduTech-Hackathon\\archive\\valid\\Positive\\IMG_...  POSITIVE\n",
       "198  \\eduTech-Hackathon\\archive\\valid\\Positive\\IMG_...  POSITIVE\n",
       "199  \\eduTech-Hackathon\\archive\\valid\\Positive\\IMG_...  POSITIVE\n",
       "\n",
       "[200 rows x 2 columns]"
      ]
     },
     "execution_count": 29,
     "metadata": {},
     "output_type": "execute_result"
    }
   ],
   "source": [
    "positive_df = generate_df(positive_dir_val, label=\"POSITIVE\")\n",
    "negative_df = generate_df(negative_dir_val, label=\"NEGATIVE\")\n",
    "\n",
    "val_df = pd.concat([positive_df, negative_df], axis=0).sample(frac=1.0, random_state=101).reset_index(drop=True)\n",
    "val_df"
   ]
  },
  {
   "cell_type": "code",
   "execution_count": 30,
   "metadata": {},
   "outputs": [
    {
     "data": {
      "text/html": [
       "<div>\n",
       "<style scoped>\n",
       "    .dataframe tbody tr th:only-of-type {\n",
       "        vertical-align: middle;\n",
       "    }\n",
       "\n",
       "    .dataframe tbody tr th {\n",
       "        vertical-align: top;\n",
       "    }\n",
       "\n",
       "    .dataframe thead th {\n",
       "        text-align: right;\n",
       "    }\n",
       "</style>\n",
       "<table border=\"1\" class=\"dataframe\">\n",
       "  <thead>\n",
       "    <tr style=\"text-align: right;\">\n",
       "      <th></th>\n",
       "      <th>Filepath</th>\n",
       "      <th>Label</th>\n",
       "    </tr>\n",
       "  </thead>\n",
       "  <tbody>\n",
       "    <tr>\n",
       "      <th>0</th>\n",
       "      <td>\\eduTech-Hackathon\\archive\\test\\Positive\\DJI_0...</td>\n",
       "      <td>POSITIVE</td>\n",
       "    </tr>\n",
       "    <tr>\n",
       "      <th>1</th>\n",
       "      <td>\\eduTech-Hackathon\\archive\\test\\Negative\\DJI_0...</td>\n",
       "      <td>NEGATIVE</td>\n",
       "    </tr>\n",
       "    <tr>\n",
       "      <th>2</th>\n",
       "      <td>\\eduTech-Hackathon\\archive\\test\\Positive\\DJI_0...</td>\n",
       "      <td>POSITIVE</td>\n",
       "    </tr>\n",
       "    <tr>\n",
       "      <th>3</th>\n",
       "      <td>\\eduTech-Hackathon\\archive\\test\\Positive\\DJI_0...</td>\n",
       "      <td>POSITIVE</td>\n",
       "    </tr>\n",
       "    <tr>\n",
       "      <th>4</th>\n",
       "      <td>\\eduTech-Hackathon\\archive\\test\\Positive\\DJI_0...</td>\n",
       "      <td>POSITIVE</td>\n",
       "    </tr>\n",
       "    <tr>\n",
       "      <th>...</th>\n",
       "      <td>...</td>\n",
       "      <td>...</td>\n",
       "    </tr>\n",
       "    <tr>\n",
       "      <th>195</th>\n",
       "      <td>\\eduTech-Hackathon\\archive\\test\\Positive\\DJI_0...</td>\n",
       "      <td>POSITIVE</td>\n",
       "    </tr>\n",
       "    <tr>\n",
       "      <th>196</th>\n",
       "      <td>\\eduTech-Hackathon\\archive\\test\\Positive\\DJI_0...</td>\n",
       "      <td>POSITIVE</td>\n",
       "    </tr>\n",
       "    <tr>\n",
       "      <th>197</th>\n",
       "      <td>\\eduTech-Hackathon\\archive\\test\\Positive\\DJI_0...</td>\n",
       "      <td>POSITIVE</td>\n",
       "    </tr>\n",
       "    <tr>\n",
       "      <th>198</th>\n",
       "      <td>\\eduTech-Hackathon\\archive\\test\\Positive\\DJI_0...</td>\n",
       "      <td>POSITIVE</td>\n",
       "    </tr>\n",
       "    <tr>\n",
       "      <th>199</th>\n",
       "      <td>\\eduTech-Hackathon\\archive\\test\\Positive\\DJI_0...</td>\n",
       "      <td>POSITIVE</td>\n",
       "    </tr>\n",
       "  </tbody>\n",
       "</table>\n",
       "<p>200 rows × 2 columns</p>\n",
       "</div>"
      ],
      "text/plain": [
       "                                              Filepath     Label\n",
       "0    \\eduTech-Hackathon\\archive\\test\\Positive\\DJI_0...  POSITIVE\n",
       "1    \\eduTech-Hackathon\\archive\\test\\Negative\\DJI_0...  NEGATIVE\n",
       "2    \\eduTech-Hackathon\\archive\\test\\Positive\\DJI_0...  POSITIVE\n",
       "3    \\eduTech-Hackathon\\archive\\test\\Positive\\DJI_0...  POSITIVE\n",
       "4    \\eduTech-Hackathon\\archive\\test\\Positive\\DJI_0...  POSITIVE\n",
       "..                                                 ...       ...\n",
       "195  \\eduTech-Hackathon\\archive\\test\\Positive\\DJI_0...  POSITIVE\n",
       "196  \\eduTech-Hackathon\\archive\\test\\Positive\\DJI_0...  POSITIVE\n",
       "197  \\eduTech-Hackathon\\archive\\test\\Positive\\DJI_0...  POSITIVE\n",
       "198  \\eduTech-Hackathon\\archive\\test\\Positive\\DJI_0...  POSITIVE\n",
       "199  \\eduTech-Hackathon\\archive\\test\\Positive\\DJI_0...  POSITIVE\n",
       "\n",
       "[200 rows x 2 columns]"
      ]
     },
     "execution_count": 30,
     "metadata": {},
     "output_type": "execute_result"
    }
   ],
   "source": [
    "positive_df = generate_df(positive_dir_test, label=\"POSITIVE\")\n",
    "negative_df = generate_df(negative_dir_test, label=\"NEGATIVE\")\n",
    "\n",
    "test_df = pd.concat([positive_df, negative_df], axis=0).sample(frac=1.0, random_state=101).reset_index(drop=True)\n",
    "test_df"
   ]
  },
  {
   "cell_type": "code",
   "execution_count": 31,
   "metadata": {},
   "outputs": [],
   "source": [
    "train_gen = tf.keras.preprocessing.image.ImageDataGenerator(\n",
    "    rescale=1./255\n",
    ")\n",
    "\n",
    "val_gen = tf.keras.preprocessing.image.ImageDataGenerator(\n",
    "    rescale=1./255\n",
    ")\n",
    "\n",
    "test_gen = tf.keras.preprocessing.image.ImageDataGenerator(\n",
    "    rescale=1./255\n",
    ")\n",
    "\n",
    "pred_gen = tf.keras.preprocessing.image.ImageDataGenerator(\n",
    "    rescale=1./255\n",
    ")"
   ]
  },
  {
   "cell_type": "code",
   "execution_count": 32,
   "metadata": {},
   "outputs": [
    {
     "name": "stdout",
     "output_type": "stream",
     "text": [
      "Found 600 validated image filenames belonging to 2 classes.\n",
      "Found 200 validated image filenames belonging to 2 classes.\n",
      "Found 200 validated image filenames belonging to 2 classes.\n"
     ]
    }
   ],
   "source": [
    "train_data = train_gen.flow_from_dataframe(\n",
    "    train_df,\n",
    "    x_col='Filepath',\n",
    "    y_col='Label',\n",
    "    target_size=(120, 120),\n",
    "    color_mode='rgb',\n",
    "    class_mode='binary',\n",
    "    batch_size=32,\n",
    "    shuffle=True,\n",
    "    seed=42\n",
    ")\n",
    "\n",
    "val_data = val_gen.flow_from_dataframe(\n",
    "    val_df,\n",
    "    x_col='Filepath',\n",
    "    y_col='Label',\n",
    "    target_size=(120, 120),\n",
    "    color_mode='rgb',\n",
    "    class_mode='binary',\n",
    "    batch_size=32,\n",
    "    shuffle=True,\n",
    "    seed=42\n",
    ")\n",
    "\n",
    "test_data = test_gen.flow_from_dataframe(\n",
    "    test_df,\n",
    "    x_col='Filepath',\n",
    "    y_col='Label',\n",
    "    target_size=(120, 120),\n",
    "    color_mode='rgb',\n",
    "    class_mode='binary',\n",
    "    batch_size=32,\n",
    "    shuffle=False,\n",
    "    seed=42\n",
    ")"
   ]
  },
  {
   "cell_type": "code",
   "execution_count": 33,
   "metadata": {},
   "outputs": [
    {
     "name": "stdout",
     "output_type": "stream",
     "text": [
      "Model: \"model_1\"\n",
      "_________________________________________________________________\n",
      " Layer (type)                Output Shape              Param #   \n",
      "=================================================================\n",
      " input_2 (InputLayer)        [(None, 120, 120, 3)]     0         \n",
      "                                                                 \n",
      " conv2d_2 (Conv2D)           (None, 118, 118, 16)      448       \n",
      "                                                                 \n",
      " max_pooling2d_2 (MaxPooling  (None, 59, 59, 16)       0         \n",
      " 2D)                                                             \n",
      "                                                                 \n",
      " conv2d_3 (Conv2D)           (None, 57, 57, 32)        4640      \n",
      "                                                                 \n",
      " max_pooling2d_3 (MaxPooling  (None, 28, 28, 32)       0         \n",
      " 2D)                                                             \n",
      "                                                                 \n",
      " global_average_pooling2d_1   (None, 32)               0         \n",
      " (GlobalAveragePooling2D)                                        \n",
      "                                                                 \n",
      " dense_1 (Dense)             (None, 1)                 33        \n",
      "                                                                 \n",
      "=================================================================\n",
      "Total params: 5,121\n",
      "Trainable params: 5,121\n",
      "Non-trainable params: 0\n",
      "_________________________________________________________________\n",
      "None\n"
     ]
    }
   ],
   "source": [
    "inputs = tf.keras.Input(shape=(120, 120, 3))\n",
    "x = tf.keras.layers.Conv2D(filters=16, kernel_size=(3, 3), activation='relu')(inputs)\n",
    "x = tf.keras.layers.MaxPool2D(pool_size=(2, 2))(x)\n",
    "x = tf.keras.layers.Conv2D(filters=32, kernel_size=(3, 3), activation='relu')(x)\n",
    "x = tf.keras.layers.MaxPool2D(pool_size=(2, 2))(x)\n",
    "x = tf.keras.layers.GlobalAveragePooling2D()(x)\n",
    "outputs = tf.keras.layers.Dense(1, activation='sigmoid')(x)\n",
    "\n",
    "model = tf.keras.Model(inputs=inputs, outputs=outputs)\n",
    "\n",
    "model.compile(\n",
    "    optimizer='adam',\n",
    "    loss='binary_crossentropy',\n",
    "    metrics=['accuracy']\n",
    ")\n",
    "\n",
    "print(model.summary())"
   ]
  },
  {
   "cell_type": "code",
   "execution_count": 34,
   "metadata": {},
   "outputs": [
    {
     "name": "stdout",
     "output_type": "stream",
     "text": [
      "Epoch 1/50\n",
      "19/19 [==============================] - 3s 145ms/step - loss: 0.6940 - accuracy: 0.5233 - val_loss: 0.6877 - val_accuracy: 0.5000\n",
      "Epoch 2/50\n",
      "19/19 [==============================] - 2s 123ms/step - loss: 0.6891 - accuracy: 0.5150 - val_loss: 0.6890 - val_accuracy: 0.5200\n",
      "Epoch 3/50\n",
      "19/19 [==============================] - 3s 148ms/step - loss: 0.6853 - accuracy: 0.5700 - val_loss: 0.6787 - val_accuracy: 0.7450\n",
      "Epoch 4/50\n",
      "19/19 [==============================] - 3s 173ms/step - loss: 0.6772 - accuracy: 0.5433 - val_loss: 0.6683 - val_accuracy: 0.7500\n",
      "Epoch 5/50\n",
      "19/19 [==============================] - 3s 177ms/step - loss: 0.6693 - accuracy: 0.6933 - val_loss: 0.6591 - val_accuracy: 0.7300\n",
      "Epoch 6/50\n",
      "19/19 [==============================] - 3s 135ms/step - loss: 0.6603 - accuracy: 0.6767 - val_loss: 0.6438 - val_accuracy: 0.8300\n",
      "Epoch 7/50\n",
      "19/19 [==============================] - 3s 132ms/step - loss: 0.6465 - accuracy: 0.7583 - val_loss: 0.6274 - val_accuracy: 0.8450\n",
      "Epoch 8/50\n",
      "19/19 [==============================] - 3s 134ms/step - loss: 0.6291 - accuracy: 0.7417 - val_loss: 0.6067 - val_accuracy: 0.8450\n",
      "Epoch 9/50\n",
      "19/19 [==============================] - 2s 129ms/step - loss: 0.6152 - accuracy: 0.7283 - val_loss: 0.5940 - val_accuracy: 0.7500\n",
      "Epoch 10/50\n",
      "19/19 [==============================] - 2s 123ms/step - loss: 0.5929 - accuracy: 0.7783 - val_loss: 0.5489 - val_accuracy: 0.8600\n",
      "Epoch 11/50\n",
      "19/19 [==============================] - 3s 147ms/step - loss: 0.5740 - accuracy: 0.7733 - val_loss: 0.5353 - val_accuracy: 0.9050\n",
      "Epoch 12/50\n",
      "19/19 [==============================] - 3s 163ms/step - loss: 0.5502 - accuracy: 0.8000 - val_loss: 0.4986 - val_accuracy: 0.9100\n",
      "Epoch 13/50\n",
      "19/19 [==============================] - 3s 152ms/step - loss: 0.5342 - accuracy: 0.8017 - val_loss: 0.4720 - val_accuracy: 0.8750\n",
      "Epoch 14/50\n",
      "19/19 [==============================] - 3s 147ms/step - loss: 0.5143 - accuracy: 0.8000 - val_loss: 0.4649 - val_accuracy: 0.9250\n",
      "Epoch 15/50\n",
      "19/19 [==============================] - 3s 134ms/step - loss: 0.5016 - accuracy: 0.8033 - val_loss: 0.4333 - val_accuracy: 0.9150\n",
      "Epoch 16/50\n",
      "19/19 [==============================] - 3s 133ms/step - loss: 0.4817 - accuracy: 0.8233 - val_loss: 0.4327 - val_accuracy: 0.9150\n",
      "Epoch 17/50\n",
      "19/19 [==============================] - 3s 137ms/step - loss: 0.4732 - accuracy: 0.8267 - val_loss: 0.3954 - val_accuracy: 0.9150\n",
      "Epoch 18/50\n",
      "19/19 [==============================] - 3s 136ms/step - loss: 0.4624 - accuracy: 0.8300 - val_loss: 0.4075 - val_accuracy: 0.9150\n",
      "Epoch 19/50\n",
      "19/19 [==============================] - 3s 136ms/step - loss: 0.4553 - accuracy: 0.8333 - val_loss: 0.3741 - val_accuracy: 0.9100\n",
      "Epoch 20/50\n",
      "19/19 [==============================] - 3s 135ms/step - loss: 0.4433 - accuracy: 0.8333 - val_loss: 0.3793 - val_accuracy: 0.9200\n",
      "Epoch 21/50\n",
      "19/19 [==============================] - 3s 136ms/step - loss: 0.4381 - accuracy: 0.8317 - val_loss: 0.3508 - val_accuracy: 0.9000\n",
      "Epoch 22/50\n",
      "19/19 [==============================] - 3s 134ms/step - loss: 0.4445 - accuracy: 0.8367 - val_loss: 0.3442 - val_accuracy: 0.9100\n",
      "Epoch 23/50\n",
      "19/19 [==============================] - 3s 133ms/step - loss: 0.4327 - accuracy: 0.8450 - val_loss: 0.3325 - val_accuracy: 0.9000\n",
      "Epoch 24/50\n",
      "19/19 [==============================] - 3s 156ms/step - loss: 0.4244 - accuracy: 0.8417 - val_loss: 0.3661 - val_accuracy: 0.9300\n",
      "Epoch 25/50\n",
      "19/19 [==============================] - 3s 177ms/step - loss: 0.4228 - accuracy: 0.8450 - val_loss: 0.3439 - val_accuracy: 0.9500\n",
      "Epoch 26/50\n",
      "19/19 [==============================] - 3s 169ms/step - loss: 0.4160 - accuracy: 0.8400 - val_loss: 0.3236 - val_accuracy: 0.9250\n",
      "Epoch 27/50\n",
      "19/19 [==============================] - 3s 145ms/step - loss: 0.4158 - accuracy: 0.8433 - val_loss: 0.3100 - val_accuracy: 0.9050\n",
      "Epoch 28/50\n",
      "19/19 [==============================] - 3s 144ms/step - loss: 0.4254 - accuracy: 0.8467 - val_loss: 0.3207 - val_accuracy: 0.9050\n",
      "Epoch 29/50\n",
      "19/19 [==============================] - 3s 164ms/step - loss: 0.4101 - accuracy: 0.8450 - val_loss: 0.3120 - val_accuracy: 0.9300\n",
      "Epoch 30/50\n",
      "19/19 [==============================] - 3s 170ms/step - loss: 0.4082 - accuracy: 0.8500 - val_loss: 0.3028 - val_accuracy: 0.9150\n",
      "Epoch 31/50\n",
      "19/19 [==============================] - 9s 500ms/step - loss: 0.4089 - accuracy: 0.8417 - val_loss: 0.3171 - val_accuracy: 0.9450\n",
      "Epoch 32/50\n",
      "19/19 [==============================] - 3s 161ms/step - loss: 0.4046 - accuracy: 0.8400 - val_loss: 0.3034 - val_accuracy: 0.9300\n",
      "Epoch 33/50\n",
      "19/19 [==============================] - 3s 154ms/step - loss: 0.3953 - accuracy: 0.8567 - val_loss: 0.3019 - val_accuracy: 0.9400\n",
      "Epoch 34/50\n",
      "19/19 [==============================] - 3s 146ms/step - loss: 0.3935 - accuracy: 0.8483 - val_loss: 0.2937 - val_accuracy: 0.9450\n",
      "Epoch 35/50\n",
      "19/19 [==============================] - 3s 142ms/step - loss: 0.3943 - accuracy: 0.8517 - val_loss: 0.2910 - val_accuracy: 0.9250\n",
      "Epoch 36/50\n",
      "19/19 [==============================] - 3s 138ms/step - loss: 0.3907 - accuracy: 0.8550 - val_loss: 0.3555 - val_accuracy: 0.9400\n",
      "Epoch 37/50\n",
      "19/19 [==============================] - 3s 169ms/step - loss: 0.3944 - accuracy: 0.8567 - val_loss: 0.2768 - val_accuracy: 0.9100\n",
      "Epoch 38/50\n",
      "19/19 [==============================] - 4s 239ms/step - loss: 0.3898 - accuracy: 0.8500 - val_loss: 0.2843 - val_accuracy: 0.9250\n",
      "Epoch 39/50\n",
      "19/19 [==============================] - 13s 694ms/step - loss: 0.3856 - accuracy: 0.8550 - val_loss: 0.2761 - val_accuracy: 0.9300\n",
      "Epoch 40/50\n",
      "19/19 [==============================] - 5s 224ms/step - loss: 0.3862 - accuracy: 0.8583 - val_loss: 0.2826 - val_accuracy: 0.9400\n",
      "Epoch 41/50\n",
      "19/19 [==============================] - 3s 137ms/step - loss: 0.3804 - accuracy: 0.8617 - val_loss: 0.2876 - val_accuracy: 0.9450\n",
      "Epoch 42/50\n",
      "19/19 [==============================] - 3s 135ms/step - loss: 0.3791 - accuracy: 0.8517 - val_loss: 0.2946 - val_accuracy: 0.9700\n"
     ]
    }
   ],
   "source": [
    "history = model.fit(\n",
    "    train_data,\n",
    "    validation_data=val_data,\n",
    "    epochs=50,\n",
    "    callbacks=[\n",
    "        tf.keras.callbacks.EarlyStopping(\n",
    "            monitor='val_loss',\n",
    "            patience=3,\n",
    "            restore_best_weights=True\n",
    "        )\n",
    "    ]\n",
    ")"
   ]
  },
  {
   "cell_type": "code",
   "execution_count": 36,
   "metadata": {},
   "outputs": [
    {
     "name": "stdout",
     "output_type": "stream",
     "text": [
      "7/7 [==============================] - 0s 42ms/step\n"
     ]
    }
   ],
   "source": [
    "y_pred=model.predict(test_data)"
   ]
  },
  {
   "cell_type": "code",
   "execution_count": 37,
   "metadata": {},
   "outputs": [
    {
     "name": "stdout",
     "output_type": "stream",
     "text": [
      "7/7 [==============================] - 0s 34ms/step\n"
     ]
    },
    {
     "name": "stderr",
     "output_type": "stream",
     "text": [
      "C:\\Users\\shiva\\AppData\\Local\\Temp\\ipykernel_15724\\3556818576.py:1: DeprecationWarning: `np.int` is a deprecated alias for the builtin `int`. To silence this warning, use `int` by itself. Doing this will not modify any behavior and is safe. When replacing `np.int`, you may wish to use e.g. `np.int64` or `np.int32` to specify the precision. If you wish to review your current use, check the release note link for additional information.\n",
      "Deprecated in NumPy 1.20; for more details and guidance: https://numpy.org/devdocs/release/1.20.0-notes.html#deprecations\n",
      "  y_pred = np.squeeze((model.predict(test_data) >= 0.5).astype(np.int))\n"
     ]
    }
   ],
   "source": [
    "y_pred = np.squeeze((model.predict(test_data) >= 0.5).astype(np.int))"
   ]
  },
  {
   "cell_type": "code",
   "execution_count": 43,
   "metadata": {},
   "outputs": [
    {
     "data": {
      "text/plain": [
       "0      POSITIVE\n",
       "1      NEGATIVE\n",
       "2      POSITIVE\n",
       "3      POSITIVE\n",
       "4      POSITIVE\n",
       "         ...   \n",
       "195    POSITIVE\n",
       "196    POSITIVE\n",
       "197    POSITIVE\n",
       "198    POSITIVE\n",
       "199    POSITIVE\n",
       "Name: Label, Length: 200, dtype: object"
      ]
     },
     "execution_count": 43,
     "metadata": {},
     "output_type": "execute_result"
    }
   ],
   "source": [
    "test_df['Label']"
   ]
  },
  {
   "cell_type": "code",
   "execution_count": 55,
   "metadata": {},
   "outputs": [],
   "source": [
    "y_test = []\n",
    "for label in test_df['Label']:\n",
    "    if label == 'POSITIVE':\n",
    "        y_test.append(1)\n",
    "    else:\n",
    "        y_test.append(0)"
   ]
  },
  {
   "cell_type": "code",
   "execution_count": 56,
   "metadata": {},
   "outputs": [
    {
     "data": {
      "text/plain": [
       "(200, 200)"
      ]
     },
     "execution_count": 56,
     "metadata": {},
     "output_type": "execute_result"
    }
   ],
   "source": [
    "len(y_pred), len(y_test)"
   ]
  },
  {
   "cell_type": "code",
   "execution_count": 57,
   "metadata": {},
   "outputs": [
    {
     "data": {
      "text/plain": [
       "0.74"
      ]
     },
     "execution_count": 57,
     "metadata": {},
     "output_type": "execute_result"
    }
   ],
   "source": [
    "from sklearn.metrics import accuracy_score\n",
    "accuracy_score(y_pred, y_test)"
   ]
  },
  {
   "cell_type": "code",
   "execution_count": 58,
   "metadata": {},
   "outputs": [
    {
     "name": "stdout",
     "output_type": "stream",
     "text": [
      "              precision    recall  f1-score   support\n",
      "\n",
      "           0       0.66      1.00      0.79       100\n",
      "           1       1.00      0.48      0.65       100\n",
      "\n",
      "    accuracy                           0.74       200\n",
      "   macro avg       0.83      0.74      0.72       200\n",
      "weighted avg       0.83      0.74      0.72       200\n",
      "\n"
     ]
    }
   ],
   "source": [
    "from sklearn.metrics import classification_report\n",
    "print(classification_report(y_test, y_pred))"
   ]
  }
 ],
 "metadata": {
  "kernelspec": {
   "display_name": "Python 3",
   "language": "python",
   "name": "python3"
  },
  "language_info": {
   "codemirror_mode": {
    "name": "ipython",
    "version": 3
   },
   "file_extension": ".py",
   "mimetype": "text/x-python",
   "name": "python",
   "nbconvert_exporter": "python",
   "pygments_lexer": "ipython3",
   "version": "3.10.8"
  },
  "orig_nbformat": 4,
  "vscode": {
   "interpreter": {
    "hash": "37a27d0e5b469d6519fba8d674fca678a9e423d1818ec628dd8efc12286d08bf"
   }
  }
 },
 "nbformat": 4,
 "nbformat_minor": 2
}
