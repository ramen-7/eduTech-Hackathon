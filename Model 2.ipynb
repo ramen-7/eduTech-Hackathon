{
 "cells": [
  {
   "cell_type": "code",
   "execution_count": 64,
   "id": "65d988c7",
   "metadata": {},
   "outputs": [],
   "source": [
    "import numpy as np\n",
    "import pandas as pd\n",
    "\n",
    "import matplotlib.pyplot as plt\n",
    "import seaborn as sns\n",
    "\n",
    "from pathlib import Path\n",
    "from sklearn.model_selection import train_test_split\n",
    "\n",
    "import tensorflow as tf\n",
    "from tensorflow.keras.models import Sequential \n",
    "from tensorflow.keras import Input\n",
    "from tensorflow.keras.layers import Dense, Conv2D , MaxPool2D , Flatten , Dropout, GlobalAveragePooling2D\n",
    "from tensorflow.keras.preprocessing.image import ImageDataGenerator\n",
    "from tensorflow.keras.optimizers import Adam, RMSprop, Adagrad\n",
    "from tensorflow.keras.layers import BatchNormalization\n",
    "from tensorflow.keras.callbacks import EarlyStopping\n",
    "\n",
    "from sklearn.metrics import confusion_matrix, classification_report"
   ]
  },
  {
   "cell_type": "code",
   "execution_count": 65,
   "id": "b12d58e3",
   "metadata": {},
   "outputs": [],
   "source": [
    "positive_dir_train = Path('C:\\\\Users\\\\shvmt\\Documents\\\\GitHub\\\\eduTech-Hackathon\\\\train\\\\Positive')\n",
    "negative_dir_train = Path('C:\\\\Users\\\\shvmt\\Documents\\\\GitHub\\\\eduTech-Hackathon\\\\train\\\\Negative')\n",
    "positive_dir_valid = Path('C:\\\\Users\\\\shvmt\\Documents\\\\GitHub\\\\eduTech-Hackathon\\\\valid\\\\Positive')\n",
    "negative_dir_valid = Path('C:\\\\Users\\\\shvmt\\Documents\\\\GitHub\\\\eduTech-Hackathon\\\\valid\\\\Negative')\n",
    "positive_dir_test = Path('C:\\\\Users\\\\shvmt\\Documents\\\\GitHub\\\\eduTech-Hackathon\\\\test\\\\Positive')\n",
    "negative_dir_test = Path('C:\\\\Users\\\\shvmt\\Documents\\\\GitHub\\\\eduTech-Hackathon\\\\test\\\\Negative')"
   ]
  },
  {
   "cell_type": "code",
   "execution_count": 66,
   "id": "c8810520",
   "metadata": {},
   "outputs": [],
   "source": [
    "def pathDf(dirPath, label):\n",
    "    filepaths = pd.Series(list(dirPath.glob(r'*.jpg')), name='Filepath').astype(str)\n",
    "    labels = pd.Series(label, name='Label', index=filepaths.index)\n",
    "    df = pd.concat([filepaths, labels], axis=1)\n",
    "    return df"
   ]
  },
  {
   "cell_type": "code",
   "execution_count": 67,
   "id": "df43f2ce",
   "metadata": {},
   "outputs": [],
   "source": [
    "p_train_df = pathDf(positive_dir_train, label='P')\n",
    "n_train_df = pathDf(negative_dir_train, label='N')\n",
    "p_val_df = pathDf(positive_dir_valid, label='P')\n",
    "n_val_df = pathDf(negative_dir_valid, label='N')\n",
    "p_test_df = pathDf(positive_dir_test, label='P')\n",
    "n_test_df = pathDf(negative_dir_test, label='N')"
   ]
  },
  {
   "cell_type": "code",
   "execution_count": 68,
   "id": "5e861c57",
   "metadata": {},
   "outputs": [],
   "source": [
    "df_train = pd.concat([p_train_df, n_train_df], axis=0).reset_index(drop=True)\n",
    "df_val = pd.concat([p_val_df, n_val_df], axis=0).reset_index(drop=True)\n",
    "df_test = pd.concat([p_test_df, n_test_df], axis=0).reset_index(drop=True)"
   ]
  },
  {
   "cell_type": "code",
   "execution_count": 69,
   "id": "a2b8047f",
   "metadata": {},
   "outputs": [
    {
     "data": {
      "text/html": [
       "<div>\n",
       "<style scoped>\n",
       "    .dataframe tbody tr th:only-of-type {\n",
       "        vertical-align: middle;\n",
       "    }\n",
       "\n",
       "    .dataframe tbody tr th {\n",
       "        vertical-align: top;\n",
       "    }\n",
       "\n",
       "    .dataframe thead th {\n",
       "        text-align: right;\n",
       "    }\n",
       "</style>\n",
       "<table border=\"1\" class=\"dataframe\">\n",
       "  <thead>\n",
       "    <tr style=\"text-align: right;\">\n",
       "      <th></th>\n",
       "      <th>Filepath</th>\n",
       "      <th>Label</th>\n",
       "    </tr>\n",
       "  </thead>\n",
       "  <tbody>\n",
       "    <tr>\n",
       "      <th>0</th>\n",
       "      <td>C:\\Users\\shvmt\\Documents\\GitHub\\eduTech-Hackat...</td>\n",
       "      <td>P</td>\n",
       "    </tr>\n",
       "    <tr>\n",
       "      <th>1</th>\n",
       "      <td>C:\\Users\\shvmt\\Documents\\GitHub\\eduTech-Hackat...</td>\n",
       "      <td>P</td>\n",
       "    </tr>\n",
       "    <tr>\n",
       "      <th>2</th>\n",
       "      <td>C:\\Users\\shvmt\\Documents\\GitHub\\eduTech-Hackat...</td>\n",
       "      <td>P</td>\n",
       "    </tr>\n",
       "    <tr>\n",
       "      <th>3</th>\n",
       "      <td>C:\\Users\\shvmt\\Documents\\GitHub\\eduTech-Hackat...</td>\n",
       "      <td>P</td>\n",
       "    </tr>\n",
       "    <tr>\n",
       "      <th>4</th>\n",
       "      <td>C:\\Users\\shvmt\\Documents\\GitHub\\eduTech-Hackat...</td>\n",
       "      <td>P</td>\n",
       "    </tr>\n",
       "    <tr>\n",
       "      <th>...</th>\n",
       "      <td>...</td>\n",
       "      <td>...</td>\n",
       "    </tr>\n",
       "    <tr>\n",
       "      <th>595</th>\n",
       "      <td>C:\\Users\\shvmt\\Documents\\GitHub\\eduTech-Hackat...</td>\n",
       "      <td>N</td>\n",
       "    </tr>\n",
       "    <tr>\n",
       "      <th>596</th>\n",
       "      <td>C:\\Users\\shvmt\\Documents\\GitHub\\eduTech-Hackat...</td>\n",
       "      <td>N</td>\n",
       "    </tr>\n",
       "    <tr>\n",
       "      <th>597</th>\n",
       "      <td>C:\\Users\\shvmt\\Documents\\GitHub\\eduTech-Hackat...</td>\n",
       "      <td>N</td>\n",
       "    </tr>\n",
       "    <tr>\n",
       "      <th>598</th>\n",
       "      <td>C:\\Users\\shvmt\\Documents\\GitHub\\eduTech-Hackat...</td>\n",
       "      <td>N</td>\n",
       "    </tr>\n",
       "    <tr>\n",
       "      <th>599</th>\n",
       "      <td>C:\\Users\\shvmt\\Documents\\GitHub\\eduTech-Hackat...</td>\n",
       "      <td>N</td>\n",
       "    </tr>\n",
       "  </tbody>\n",
       "</table>\n",
       "<p>600 rows × 2 columns</p>\n",
       "</div>"
      ],
      "text/plain": [
       "                                              Filepath Label\n",
       "0    C:\\Users\\shvmt\\Documents\\GitHub\\eduTech-Hackat...     P\n",
       "1    C:\\Users\\shvmt\\Documents\\GitHub\\eduTech-Hackat...     P\n",
       "2    C:\\Users\\shvmt\\Documents\\GitHub\\eduTech-Hackat...     P\n",
       "3    C:\\Users\\shvmt\\Documents\\GitHub\\eduTech-Hackat...     P\n",
       "4    C:\\Users\\shvmt\\Documents\\GitHub\\eduTech-Hackat...     P\n",
       "..                                                 ...   ...\n",
       "595  C:\\Users\\shvmt\\Documents\\GitHub\\eduTech-Hackat...     N\n",
       "596  C:\\Users\\shvmt\\Documents\\GitHub\\eduTech-Hackat...     N\n",
       "597  C:\\Users\\shvmt\\Documents\\GitHub\\eduTech-Hackat...     N\n",
       "598  C:\\Users\\shvmt\\Documents\\GitHub\\eduTech-Hackat...     N\n",
       "599  C:\\Users\\shvmt\\Documents\\GitHub\\eduTech-Hackat...     N\n",
       "\n",
       "[600 rows x 2 columns]"
      ]
     },
     "execution_count": 69,
     "metadata": {},
     "output_type": "execute_result"
    }
   ],
   "source": [
    "df_train"
   ]
  },
  {
   "cell_type": "code",
   "execution_count": 70,
   "id": "71818d5f",
   "metadata": {},
   "outputs": [
    {
     "data": {
      "text/html": [
       "<div>\n",
       "<style scoped>\n",
       "    .dataframe tbody tr th:only-of-type {\n",
       "        vertical-align: middle;\n",
       "    }\n",
       "\n",
       "    .dataframe tbody tr th {\n",
       "        vertical-align: top;\n",
       "    }\n",
       "\n",
       "    .dataframe thead th {\n",
       "        text-align: right;\n",
       "    }\n",
       "</style>\n",
       "<table border=\"1\" class=\"dataframe\">\n",
       "  <thead>\n",
       "    <tr style=\"text-align: right;\">\n",
       "      <th></th>\n",
       "      <th>Filepath</th>\n",
       "      <th>Label</th>\n",
       "    </tr>\n",
       "  </thead>\n",
       "  <tbody>\n",
       "    <tr>\n",
       "      <th>0</th>\n",
       "      <td>C:\\Users\\shvmt\\Documents\\GitHub\\eduTech-Hackat...</td>\n",
       "      <td>P</td>\n",
       "    </tr>\n",
       "    <tr>\n",
       "      <th>1</th>\n",
       "      <td>C:\\Users\\shvmt\\Documents\\GitHub\\eduTech-Hackat...</td>\n",
       "      <td>P</td>\n",
       "    </tr>\n",
       "    <tr>\n",
       "      <th>2</th>\n",
       "      <td>C:\\Users\\shvmt\\Documents\\GitHub\\eduTech-Hackat...</td>\n",
       "      <td>P</td>\n",
       "    </tr>\n",
       "    <tr>\n",
       "      <th>3</th>\n",
       "      <td>C:\\Users\\shvmt\\Documents\\GitHub\\eduTech-Hackat...</td>\n",
       "      <td>P</td>\n",
       "    </tr>\n",
       "    <tr>\n",
       "      <th>4</th>\n",
       "      <td>C:\\Users\\shvmt\\Documents\\GitHub\\eduTech-Hackat...</td>\n",
       "      <td>P</td>\n",
       "    </tr>\n",
       "    <tr>\n",
       "      <th>...</th>\n",
       "      <td>...</td>\n",
       "      <td>...</td>\n",
       "    </tr>\n",
       "    <tr>\n",
       "      <th>195</th>\n",
       "      <td>C:\\Users\\shvmt\\Documents\\GitHub\\eduTech-Hackat...</td>\n",
       "      <td>N</td>\n",
       "    </tr>\n",
       "    <tr>\n",
       "      <th>196</th>\n",
       "      <td>C:\\Users\\shvmt\\Documents\\GitHub\\eduTech-Hackat...</td>\n",
       "      <td>N</td>\n",
       "    </tr>\n",
       "    <tr>\n",
       "      <th>197</th>\n",
       "      <td>C:\\Users\\shvmt\\Documents\\GitHub\\eduTech-Hackat...</td>\n",
       "      <td>N</td>\n",
       "    </tr>\n",
       "    <tr>\n",
       "      <th>198</th>\n",
       "      <td>C:\\Users\\shvmt\\Documents\\GitHub\\eduTech-Hackat...</td>\n",
       "      <td>N</td>\n",
       "    </tr>\n",
       "    <tr>\n",
       "      <th>199</th>\n",
       "      <td>C:\\Users\\shvmt\\Documents\\GitHub\\eduTech-Hackat...</td>\n",
       "      <td>N</td>\n",
       "    </tr>\n",
       "  </tbody>\n",
       "</table>\n",
       "<p>200 rows × 2 columns</p>\n",
       "</div>"
      ],
      "text/plain": [
       "                                              Filepath Label\n",
       "0    C:\\Users\\shvmt\\Documents\\GitHub\\eduTech-Hackat...     P\n",
       "1    C:\\Users\\shvmt\\Documents\\GitHub\\eduTech-Hackat...     P\n",
       "2    C:\\Users\\shvmt\\Documents\\GitHub\\eduTech-Hackat...     P\n",
       "3    C:\\Users\\shvmt\\Documents\\GitHub\\eduTech-Hackat...     P\n",
       "4    C:\\Users\\shvmt\\Documents\\GitHub\\eduTech-Hackat...     P\n",
       "..                                                 ...   ...\n",
       "195  C:\\Users\\shvmt\\Documents\\GitHub\\eduTech-Hackat...     N\n",
       "196  C:\\Users\\shvmt\\Documents\\GitHub\\eduTech-Hackat...     N\n",
       "197  C:\\Users\\shvmt\\Documents\\GitHub\\eduTech-Hackat...     N\n",
       "198  C:\\Users\\shvmt\\Documents\\GitHub\\eduTech-Hackat...     N\n",
       "199  C:\\Users\\shvmt\\Documents\\GitHub\\eduTech-Hackat...     N\n",
       "\n",
       "[200 rows x 2 columns]"
      ]
     },
     "execution_count": 70,
     "metadata": {},
     "output_type": "execute_result"
    }
   ],
   "source": [
    "df_val"
   ]
  },
  {
   "cell_type": "code",
   "execution_count": 71,
   "id": "1de8b755",
   "metadata": {},
   "outputs": [
    {
     "data": {
      "text/html": [
       "<div>\n",
       "<style scoped>\n",
       "    .dataframe tbody tr th:only-of-type {\n",
       "        vertical-align: middle;\n",
       "    }\n",
       "\n",
       "    .dataframe tbody tr th {\n",
       "        vertical-align: top;\n",
       "    }\n",
       "\n",
       "    .dataframe thead th {\n",
       "        text-align: right;\n",
       "    }\n",
       "</style>\n",
       "<table border=\"1\" class=\"dataframe\">\n",
       "  <thead>\n",
       "    <tr style=\"text-align: right;\">\n",
       "      <th></th>\n",
       "      <th>Filepath</th>\n",
       "      <th>Label</th>\n",
       "    </tr>\n",
       "  </thead>\n",
       "  <tbody>\n",
       "    <tr>\n",
       "      <th>0</th>\n",
       "      <td>C:\\Users\\shvmt\\Documents\\GitHub\\eduTech-Hackat...</td>\n",
       "      <td>P</td>\n",
       "    </tr>\n",
       "    <tr>\n",
       "      <th>1</th>\n",
       "      <td>C:\\Users\\shvmt\\Documents\\GitHub\\eduTech-Hackat...</td>\n",
       "      <td>P</td>\n",
       "    </tr>\n",
       "    <tr>\n",
       "      <th>2</th>\n",
       "      <td>C:\\Users\\shvmt\\Documents\\GitHub\\eduTech-Hackat...</td>\n",
       "      <td>P</td>\n",
       "    </tr>\n",
       "    <tr>\n",
       "      <th>3</th>\n",
       "      <td>C:\\Users\\shvmt\\Documents\\GitHub\\eduTech-Hackat...</td>\n",
       "      <td>P</td>\n",
       "    </tr>\n",
       "    <tr>\n",
       "      <th>4</th>\n",
       "      <td>C:\\Users\\shvmt\\Documents\\GitHub\\eduTech-Hackat...</td>\n",
       "      <td>P</td>\n",
       "    </tr>\n",
       "    <tr>\n",
       "      <th>...</th>\n",
       "      <td>...</td>\n",
       "      <td>...</td>\n",
       "    </tr>\n",
       "    <tr>\n",
       "      <th>195</th>\n",
       "      <td>C:\\Users\\shvmt\\Documents\\GitHub\\eduTech-Hackat...</td>\n",
       "      <td>N</td>\n",
       "    </tr>\n",
       "    <tr>\n",
       "      <th>196</th>\n",
       "      <td>C:\\Users\\shvmt\\Documents\\GitHub\\eduTech-Hackat...</td>\n",
       "      <td>N</td>\n",
       "    </tr>\n",
       "    <tr>\n",
       "      <th>197</th>\n",
       "      <td>C:\\Users\\shvmt\\Documents\\GitHub\\eduTech-Hackat...</td>\n",
       "      <td>N</td>\n",
       "    </tr>\n",
       "    <tr>\n",
       "      <th>198</th>\n",
       "      <td>C:\\Users\\shvmt\\Documents\\GitHub\\eduTech-Hackat...</td>\n",
       "      <td>N</td>\n",
       "    </tr>\n",
       "    <tr>\n",
       "      <th>199</th>\n",
       "      <td>C:\\Users\\shvmt\\Documents\\GitHub\\eduTech-Hackat...</td>\n",
       "      <td>N</td>\n",
       "    </tr>\n",
       "  </tbody>\n",
       "</table>\n",
       "<p>200 rows × 2 columns</p>\n",
       "</div>"
      ],
      "text/plain": [
       "                                              Filepath Label\n",
       "0    C:\\Users\\shvmt\\Documents\\GitHub\\eduTech-Hackat...     P\n",
       "1    C:\\Users\\shvmt\\Documents\\GitHub\\eduTech-Hackat...     P\n",
       "2    C:\\Users\\shvmt\\Documents\\GitHub\\eduTech-Hackat...     P\n",
       "3    C:\\Users\\shvmt\\Documents\\GitHub\\eduTech-Hackat...     P\n",
       "4    C:\\Users\\shvmt\\Documents\\GitHub\\eduTech-Hackat...     P\n",
       "..                                                 ...   ...\n",
       "195  C:\\Users\\shvmt\\Documents\\GitHub\\eduTech-Hackat...     N\n",
       "196  C:\\Users\\shvmt\\Documents\\GitHub\\eduTech-Hackat...     N\n",
       "197  C:\\Users\\shvmt\\Documents\\GitHub\\eduTech-Hackat...     N\n",
       "198  C:\\Users\\shvmt\\Documents\\GitHub\\eduTech-Hackat...     N\n",
       "199  C:\\Users\\shvmt\\Documents\\GitHub\\eduTech-Hackat...     N\n",
       "\n",
       "[200 rows x 2 columns]"
      ]
     },
     "execution_count": 71,
     "metadata": {},
     "output_type": "execute_result"
    }
   ],
   "source": [
    "df_test"
   ]
  },
  {
   "cell_type": "code",
   "execution_count": 115,
   "id": "9fe81624",
   "metadata": {},
   "outputs": [],
   "source": [
    "datagen = ImageDataGenerator(\n",
    "    rotation_range=360,\n",
    "    width_shift_range=0.2,\n",
    "    height_shift_range=0.2,\n",
    "    horizontal_flip=True,\n",
    "    shear_range=0.2,\n",
    "    zoom_range=0.2,\n",
    "    rescale=1./255)\n",
    "\n",
    "datagen_test = ImageDataGenerator(\n",
    "    rescale=1./255)\n",
    "\n",
    "callback1 = EarlyStopping(\n",
    "    monitor='val_accuracy',\n",
    "    min_delta=0.005,\n",
    "    patience=10,\n",
    "    verbose=1,\n",
    "    mode='auto',\n",
    "    restore_best_weights=True)\n",
    "\n",
    "callback2 = EarlyStopping(\n",
    "    monitor='accuracy',\n",
    "    min_delta=0.005,\n",
    "    patience=10,\n",
    "    verbose=1,\n",
    "    mode='auto',\n",
    "    restore_best_weights=True)\n",
    "\n",
    "callback3 = EarlyStopping(\n",
    "    monitor='val_loss',\n",
    "    patience=3,\n",
    "    restore_best_weights=True)"
   ]
  },
  {
   "cell_type": "code",
   "execution_count": 109,
   "id": "12604e0a",
   "metadata": {},
   "outputs": [
    {
     "name": "stdout",
     "output_type": "stream",
     "text": [
      "Found 600 validated image filenames belonging to 2 classes.\n",
      "Found 200 validated image filenames belonging to 2 classes.\n",
      "Found 200 validated image filenames belonging to 2 classes.\n"
     ]
    }
   ],
   "source": [
    "train_data = datagen.flow_from_dataframe(\n",
    "    df_train,\n",
    "    x_col = 'Filepath',\n",
    "    y_col = 'Label',\n",
    "    target_size = (120, 120),\n",
    "    color_mode = 'rgb',\n",
    "    class_mode = 'binary',\n",
    "    batch_size = 32,\n",
    "    shuffle = True,\n",
    "    seed = 7)\n",
    "\n",
    "val_data = datagen.flow_from_dataframe(\n",
    "    df_val,\n",
    "    x_col = 'Filepath',\n",
    "    y_col = 'Label',\n",
    "    target_size = (120, 120),\n",
    "    color_mode = 'rgb',\n",
    "    class_mode = 'binary',\n",
    "    batch_size = 32,\n",
    "    shuffle = True,\n",
    "    seed = 7)\n",
    "\n",
    "test_data = datagen_test.flow_from_dataframe(\n",
    "    df_val,\n",
    "    x_col = 'Filepath',\n",
    "    y_col = 'Label',\n",
    "    target_size = (120, 120),\n",
    "    color_mode = 'rgb',\n",
    "    class_mode = 'binary',\n",
    "    batch_size = 32,\n",
    "    shuffle = False,\n",
    "    seed = 7)"
   ]
  },
  {
   "cell_type": "code",
   "execution_count": 96,
   "id": "9a822f18",
   "metadata": {
    "scrolled": true
   },
   "outputs": [
    {
     "name": "stdout",
     "output_type": "stream",
     "text": [
      "Model: \"sequential_13\"\n",
      "_________________________________________________________________\n",
      " Layer (type)                Output Shape              Param #   \n",
      "=================================================================\n",
      " conv2d_23 (Conv2D)          (None, 118, 118, 16)      448       \n",
      "                                                                 \n",
      " max_pooling2d_22 (MaxPoolin  (None, 59, 59, 16)       0         \n",
      " g2D)                                                            \n",
      "                                                                 \n",
      " conv2d_24 (Conv2D)          (None, 57, 57, 32)        4640      \n",
      "                                                                 \n",
      " max_pooling2d_23 (MaxPoolin  (None, 28, 28, 32)       0         \n",
      " g2D)                                                            \n",
      "                                                                 \n",
      " global_average_pooling2d_11  (None, 32)               0         \n",
      "  (GlobalAveragePooling2D)                                       \n",
      "                                                                 \n",
      " dense_11 (Dense)            (None, 2)                 66        \n",
      "                                                                 \n",
      "=================================================================\n",
      "Total params: 5,154\n",
      "Trainable params: 5,154\n",
      "Non-trainable params: 0\n",
      "_________________________________________________________________\n"
     ]
    }
   ],
   "source": [
    "model = Sequential()\n",
    "\n",
    "model.add(Conv2D(filters=16, kernel_size=3, activation='relu', input_shape=(120, 120, 3)))\n",
    "model.add(MaxPool2D(pool_size=2))\n",
    "\n",
    "model.add(Conv2D(filters=32, kernel_size=3, activation='relu'))\n",
    "model.add(MaxPool2D(pool_size=2))\n",
    "\n",
    "model.add(GlobalAveragePooling2D())\n",
    "model.add(Dense(2, activation=\"softmax\"))\n",
    "\n",
    "model.summary()"
   ]
  },
  {
   "cell_type": "code",
   "execution_count": 114,
   "id": "e7b37bec",
   "metadata": {},
   "outputs": [],
   "source": [
    "def plotVals(history):\n",
    "    plt.plot(history.history['val_accuracy'], label='val_acc')\n",
    "    plt.plot(history.history['accuracy'], label='acc')\n",
    "    plt.legend()"
   ]
  },
  {
   "cell_type": "code",
   "execution_count": 97,
   "id": "6044c76b",
   "metadata": {},
   "outputs": [],
   "source": [
    "model.compile(optimizer=Adam(learning_rate=0.0005), loss='sparse_categorical_crossentropy', metrics=['accuracy'])"
   ]
  },
  {
   "cell_type": "code",
   "execution_count": 142,
   "id": "50c5adad",
   "metadata": {
    "scrolled": true
   },
   "outputs": [
    {
     "name": "stdout",
     "output_type": "stream",
     "text": [
      "Epoch 1/100\n",
      "19/19 [==============================] - 6s 336ms/step - loss: 0.4337 - accuracy: 0.8367 - val_loss: 0.3338 - val_accuracy: 0.8900\n",
      "Epoch 2/100\n",
      "19/19 [==============================] - 5s 235ms/step - loss: 0.4144 - accuracy: 0.8217 - val_loss: 0.3125 - val_accuracy: 0.9150\n",
      "Epoch 3/100\n",
      "19/19 [==============================] - 4s 218ms/step - loss: 0.4366 - accuracy: 0.8100 - val_loss: 0.3375 - val_accuracy: 0.8850\n",
      "Epoch 4/100\n",
      "19/19 [==============================] - 4s 218ms/step - loss: 0.4508 - accuracy: 0.8267 - val_loss: 0.3274 - val_accuracy: 0.9200\n",
      "Epoch 5/100\n",
      "19/19 [==============================] - 5s 259ms/step - loss: 0.4337 - accuracy: 0.8300 - val_loss: 0.3444 - val_accuracy: 0.9200\n",
      "Epoch 6/100\n",
      "19/19 [==============================] - 5s 238ms/step - loss: 0.4296 - accuracy: 0.8083 - val_loss: 0.3489 - val_accuracy: 0.9050\n",
      "Epoch 7/100\n",
      "19/19 [==============================] - 4s 223ms/step - loss: 0.4398 - accuracy: 0.8117 - val_loss: 0.3667 - val_accuracy: 0.9000\n",
      "Epoch 8/100\n",
      "19/19 [==============================] - 4s 227ms/step - loss: 0.4287 - accuracy: 0.8150 - val_loss: 0.3550 - val_accuracy: 0.8850\n",
      "Epoch 9/100\n",
      "19/19 [==============================] - 5s 238ms/step - loss: 0.4265 - accuracy: 0.8267 - val_loss: 0.3376 - val_accuracy: 0.8850\n",
      "Epoch 10/100\n",
      "19/19 [==============================] - 7s 380ms/step - loss: 0.4428 - accuracy: 0.8217 - val_loss: 0.3474 - val_accuracy: 0.9000\n",
      "Epoch 11/100\n",
      "19/19 [==============================] - 6s 233ms/step - loss: 0.4317 - accuracy: 0.8150 - val_loss: 0.3300 - val_accuracy: 0.9000\n",
      "Epoch 12/100\n",
      "19/19 [==============================] - ETA: 0s - loss: 0.4295 - accuracy: 0.8333Restoring model weights from the end of the best epoch: 2.\n",
      "19/19 [==============================] - 4s 230ms/step - loss: 0.4295 - accuracy: 0.8333 - val_loss: 0.3226 - val_accuracy: 0.9150\n",
      "Epoch 12: early stopping\n"
     ]
    }
   ],
   "source": [
    "history = model.fit(train_data, validation_data=val_data, epochs=100, callbacks = [callback1])"
   ]
  },
  {
   "cell_type": "code",
   "execution_count": 143,
   "id": "4cf10f7e",
   "metadata": {
    "scrolled": true
   },
   "outputs": [
    {
     "data": {
      "image/png": "[encoded data removed]",
      "text/plain": [
       "<Figure size 432x288 with 1 Axes>"
      ]
     },
     "metadata": {
      "needs_background": "light"
     },
     "output_type": "display_data"
    }
   ],
   "source": [
    "plotVals(history)"
   ]
  },
  {
   "cell_type": "code",
   "execution_count": 144,
   "id": "d8b2f8bb",
   "metadata": {},
   "outputs": [],
   "source": [
    "y_pred1 = [np.argmax(i) for i in model.predict(test_data)]"
   ]
  },
  {
   "cell_type": "code",
   "execution_count": 145,
   "id": "13c04784",
   "metadata": {},
   "outputs": [
    {
     "name": "stdout",
     "output_type": "stream",
     "text": [
      "              precision    recall  f1-score   support\n",
      "\n",
      "           0       0.98      0.85      0.91       115\n",
      "           1       0.83      0.98      0.90        85\n",
      "\n",
      "    accuracy                           0.91       200\n",
      "   macro avg       0.91      0.91      0.90       200\n",
      "weighted avg       0.92      0.91      0.91       200\n",
      "\n"
     ]
    }
   ],
   "source": [
    "print(classification_report(y_pred1, test_data.labels))"
   ]
  },
  {
   "cell_type": "code",
   "execution_count": 146,
   "id": "1ad9aeb0",
   "metadata": {
    "scrolled": true
   },
   "outputs": [
    {
     "name": "stdout",
     "output_type": "stream",
     "text": [
      "Epoch 1/100\n",
      "19/19 [==============================] - 5s 277ms/step - loss: 0.4410 - accuracy: 0.8217 - val_loss: 0.3189 - val_accuracy: 0.9450\n",
      "Epoch 2/100\n",
      "19/19 [==============================] - 5s 248ms/step - loss: 0.4260 - accuracy: 0.8167 - val_loss: 0.3414 - val_accuracy: 0.9100\n",
      "Epoch 3/100\n",
      "19/19 [==============================] - 5s 254ms/step - loss: 0.4173 - accuracy: 0.8283 - val_loss: 0.3500 - val_accuracy: 0.9000\n",
      "Epoch 4/100\n",
      "19/19 [==============================] - 4s 235ms/step - loss: 0.4114 - accuracy: 0.8350 - val_loss: 0.3222 - val_accuracy: 0.9000\n",
      "Epoch 5/100\n",
      "19/19 [==============================] - 5s 249ms/step - loss: 0.4190 - accuracy: 0.8200 - val_loss: 0.3676 - val_accuracy: 0.8950\n",
      "Epoch 6/100\n",
      "19/19 [==============================] - 4s 237ms/step - loss: 0.4230 - accuracy: 0.8233 - val_loss: 0.3565 - val_accuracy: 0.8900\n",
      "Epoch 7/100\n",
      "19/19 [==============================] - 4s 226ms/step - loss: 0.4249 - accuracy: 0.8200 - val_loss: 0.3482 - val_accuracy: 0.9200\n",
      "Epoch 8/100\n",
      "19/19 [==============================] - 4s 227ms/step - loss: 0.4441 - accuracy: 0.8250 - val_loss: 0.3106 - val_accuracy: 0.9150\n",
      "Epoch 9/100\n",
      "19/19 [==============================] - 4s 228ms/step - loss: 0.4166 - accuracy: 0.8317 - val_loss: 0.3098 - val_accuracy: 0.9050\n",
      "Epoch 10/100\n",
      "19/19 [==============================] - 4s 225ms/step - loss: 0.4081 - accuracy: 0.8283 - val_loss: 0.3325 - val_accuracy: 0.9050\n",
      "Epoch 11/100\n",
      "19/19 [==============================] - 4s 230ms/step - loss: 0.4154 - accuracy: 0.8517 - val_loss: 0.3225 - val_accuracy: 0.9100\n",
      "Epoch 12/100\n",
      "19/19 [==============================] - 4s 231ms/step - loss: 0.4270 - accuracy: 0.8333 - val_loss: 0.3281 - val_accuracy: 0.9000\n",
      "Epoch 13/100\n",
      "19/19 [==============================] - 4s 226ms/step - loss: 0.4287 - accuracy: 0.8217 - val_loss: 0.3380 - val_accuracy: 0.8900\n",
      "Epoch 14/100\n",
      "19/19 [==============================] - 4s 228ms/step - loss: 0.3928 - accuracy: 0.8317 - val_loss: 0.3556 - val_accuracy: 0.9000\n",
      "Epoch 15/100\n",
      "19/19 [==============================] - 4s 224ms/step - loss: 0.4221 - accuracy: 0.8333 - val_loss: 0.3016 - val_accuracy: 0.9000\n",
      "Epoch 16/100\n",
      "19/19 [==============================] - 4s 221ms/step - loss: 0.4242 - accuracy: 0.8317 - val_loss: 0.3628 - val_accuracy: 0.9000\n",
      "Epoch 17/100\n",
      "19/19 [==============================] - 9s 477ms/step - loss: 0.4397 - accuracy: 0.8233 - val_loss: 0.3606 - val_accuracy: 0.9000\n",
      "Epoch 18/100\n",
      "19/19 [==============================] - 4s 227ms/step - loss: 0.4003 - accuracy: 0.8317 - val_loss: 0.2987 - val_accuracy: 0.8850\n",
      "Epoch 19/100\n",
      "19/19 [==============================] - 4s 235ms/step - loss: 0.4203 - accuracy: 0.8367 - val_loss: 0.3201 - val_accuracy: 0.9100\n",
      "Epoch 20/100\n",
      "19/19 [==============================] - 4s 224ms/step - loss: 0.4009 - accuracy: 0.8333 - val_loss: 0.3379 - val_accuracy: 0.8950\n",
      "Epoch 21/100\n",
      "19/19 [==============================] - ETA: 0s - loss: 0.4384 - accuracy: 0.8233Restoring model weights from the end of the best epoch: 11.\n",
      "19/19 [==============================] - 4s 225ms/step - loss: 0.4384 - accuracy: 0.8233 - val_loss: 0.3046 - val_accuracy: 0.9200\n",
      "Epoch 21: early stopping\n"
     ]
    }
   ],
   "source": [
    "history2 = model.fit(train_data, validation_data=val_data, epochs=100, callbacks = [callback2])"
   ]
  },
  {
   "cell_type": "code",
   "execution_count": 147,
   "id": "d59fbb09",
   "metadata": {
    "scrolled": true
   },
   "outputs": [
    {
     "data": {
      "image/png": "[encoded data removed]",
      "text/plain": [
       "<Figure size 432x288 with 1 Axes>"
      ]
     },
     "metadata": {
      "needs_background": "light"
     },
     "output_type": "display_data"
    }
   ],
   "source": [
    "plotVals(history2)"
   ]
  },
  {
   "cell_type": "code",
   "execution_count": 148,
   "id": "18e47f04",
   "metadata": {},
   "outputs": [],
   "source": [
    "y_pred2 = [np.argmax(i) for i in model.predict(test_data)]"
   ]
  },
  {
   "cell_type": "code",
   "execution_count": 152,
   "id": "f95a5d05",
   "metadata": {},
   "outputs": [
    {
     "name": "stdout",
     "output_type": "stream",
     "text": [
      "              precision    recall  f1-score   support\n",
      "\n",
      "           0       0.98      0.86      0.92       114\n",
      "           1       0.84      0.98      0.90        86\n",
      "\n",
      "    accuracy                           0.91       200\n",
      "   macro avg       0.91      0.92      0.91       200\n",
      "weighted avg       0.92      0.91      0.91       200\n",
      "\n"
     ]
    }
   ],
   "source": [
    "print(classification_report(y_pred2, test_data.labels))"
   ]
  },
  {
   "cell_type": "code",
   "execution_count": 149,
   "id": "5563636d",
   "metadata": {
    "scrolled": true
   },
   "outputs": [
    {
     "name": "stdout",
     "output_type": "stream",
     "text": [
      "Epoch 1/100\n",
      "19/19 [==============================] - 5s 238ms/step - loss: 0.4304 - accuracy: 0.8150 - val_loss: 0.3386 - val_accuracy: 0.8900\n",
      "Epoch 2/100\n",
      "19/19 [==============================] - 4s 225ms/step - loss: 0.4340 - accuracy: 0.8233 - val_loss: 0.3539 - val_accuracy: 0.9100\n",
      "Epoch 3/100\n",
      "19/19 [==============================] - 4s 238ms/step - loss: 0.4276 - accuracy: 0.8283 - val_loss: 0.3342 - val_accuracy: 0.9050\n",
      "Epoch 4/100\n",
      "19/19 [==============================] - 4s 226ms/step - loss: 0.4237 - accuracy: 0.8367 - val_loss: 0.3143 - val_accuracy: 0.9050\n",
      "Epoch 5/100\n",
      "19/19 [==============================] - 4s 219ms/step - loss: 0.4258 - accuracy: 0.8250 - val_loss: 0.3318 - val_accuracy: 0.9100\n",
      "Epoch 6/100\n",
      "19/19 [==============================] - 4s 218ms/step - loss: 0.4096 - accuracy: 0.8183 - val_loss: 0.3467 - val_accuracy: 0.9000\n",
      "Epoch 7/100\n",
      "19/19 [==============================] - 4s 221ms/step - loss: 0.4140 - accuracy: 0.8383 - val_loss: 0.3366 - val_accuracy: 0.9350\n"
     ]
    }
   ],
   "source": [
    "history3 = model.fit(train_data, validation_data=val_data, epochs=100, callbacks = [callback3])"
   ]
  },
  {
   "cell_type": "code",
   "execution_count": 151,
   "id": "f598c0d4",
   "metadata": {},
   "outputs": [
    {
     "data": {
      "image/png": "[encoded data removed]",
      "text/plain": [
       "<Figure size 432x288 with 1 Axes>"
      ]
     },
     "metadata": {
      "needs_background": "light"
     },
     "output_type": "display_data"
    }
   ],
   "source": [
    "plotVals(history3)"
   ]
  },
  {
   "cell_type": "code",
   "execution_count": 153,
   "id": "5724d0da",
   "metadata": {},
   "outputs": [],
   "source": [
    "y_pred3 = [np.argmax(i) for i in model.predict(test_data)]"
   ]
  },
  {
   "cell_type": "code",
   "execution_count": 154,
   "id": "db9076e5",
   "metadata": {},
   "outputs": [
    {
     "name": "stdout",
     "output_type": "stream",
     "text": [
      "              precision    recall  f1-score   support\n",
      "\n",
      "           0       0.98      0.88      0.92       112\n",
      "           1       0.86      0.98      0.91        88\n",
      "\n",
      "    accuracy                           0.92       200\n",
      "   macro avg       0.92      0.93      0.92       200\n",
      "weighted avg       0.93      0.92      0.92       200\n",
      "\n"
     ]
    }
   ],
   "source": [
    "print(classification_report(y_pred3, test_data.labels))"
   ]
  }
 ],
 "metadata": {
  "kernelspec": {
   "display_name": "Python 3 (ipykernel)",
   "language": "python",
   "name": "python3"
  },
  "language_info": {
   "codemirror_mode": {
    "name": "ipython",
    "version": 3
   },
   "file_extension": ".py",
   "mimetype": "text/x-python",
   "name": "python",
   "nbconvert_exporter": "python",
   "pygments_lexer": "ipython3",
   "version": "3.9.7"
  }
 },
 "nbformat": 4,
 "nbformat_minor": 5
}
